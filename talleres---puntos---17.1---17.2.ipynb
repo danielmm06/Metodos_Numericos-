{
 "metadata": {
  "name": "",
  "signature": "sha256:84964a94b3545672b248f0d6b9763c8134fb23924b26ec7e9e59250007b28bc9"
 },
 "nbformat": 3,
 "nbformat_minor": 0,
 "worksheets": [
  {
   "cells": [
    {
     "cell_type": "code",
     "collapsed": false,
     "input": [
      "import math\n",
      "import matplotlib.pyplot as plt\n",
      "from matplotlib.pylab import hist,show\n",
      "%matplotlib inline \n",
      "\n",
      "datos=[8.8,9.5,9.8,9.4,10.0,9.4,10.1,9.2,11.3,9.4,10.0,10.4,7.9,10.4,9.8,9.8,9.5,8.9,8.8,10.6,10.1,9.5,9.6,10.2,8.9]\n",
      "\n",
      "def media():\n",
      "    suma=0.0\n",
      "    for i in range(len(datos)):\n",
      "        suma+=datos[i]\n",
      "    med=suma/len(datos)\n",
      "    return med\n",
      "\n",
      "def varianza():\n",
      "    var=0.0\n",
      "    for j in range(len(datos)):\n",
      "        var+=math.pow((datos[j]-media()),2)\n",
      "    v=var/(len(datos)-1)\n",
      "    return v\n",
      "\n",
      "def confianza():\n",
      "    L=media()-((math.sqrt(varianza())/math.sqrt(len(datos)))*2.064)\n",
      "    U=media()+((math.sqrt(varianza())/math.sqrt(len(datos)))*2.064)\n",
      "\n",
      "    print \"e) Intervalo de confianza: %.10f \\n   media: %.10f\" %(L,U)\n",
      "\n",
      "print \"17.1)\\n\"\n",
      "print \"a) media:\",media()\n",
      "print \"b) desviacion standar:\",(math.sqrt(varianza()))\n",
      "print \"c) varianza:\",varianza()\n",
      "print \"d) Coficiente de Variacion:\", (math.sqrt(varianza())/media())\n",
      "confianza()\n",
      "\n",
      "print \"\\n17.2)\"\n",
      "hist(datos,15,(7,12))\n",
      "plt.title(\"Histograma \\n\")\n",
      "plt.ylabel('Frecuencia')\n",
      "plt.xlabel('Datos')\n",
      "plt.show()"
     ],
     "language": "python",
     "metadata": {},
     "outputs": [
      {
       "output_type": "stream",
       "stream": "stdout",
       "text": [
        "17.1)\n",
        "\n",
        "a) media: 9.652\n",
        "b) desviacion standar: 0.703041013503\n",
        "c) varianza: 0.494266666667\n",
        "d) Coficiente de Variacion: 0.0728388948925\n",
        "e) Intervalo de confianza: 9.3617846696 \n",
        "   media: 9.9422153304\n",
        "\n",
        "17.2)\n"
       ]
      },
      {
       "metadata": {},
       "output_type": "display_data",
       "png": "[encoded data removed]",
       "text": [
        "<matplotlib.figure.Figure at 0x7f36a408ea10>"
       ]
      }
     ],
     "prompt_number": 13
    },
    {
     "cell_type": "code",
     "collapsed": false,
     "input": [],
     "language": "python",
     "metadata": {},
     "outputs": [],
     "prompt_number": 13
    },
    {
     "cell_type": "code",
     "collapsed": false,
     "input": [],
     "language": "python",
     "metadata": {},
     "outputs": []
    }
   ],
   "metadata": {}
  }
 ]
}