{
 "cells": [
  {
   "cell_type": "markdown",
   "metadata": {},
   "source": [
    "# Taller 5.13 --- chapra"
   ]
  },
  {
   "cell_type": "code",
   "execution_count": 7,
   "metadata": {
    "collapsed": false
   },
   "outputs": [
    {
     "data": {
      "image/png": "[encoded data removed]",
      "text/plain": [
       "<matplotlib.figure.Figure at 0x743b240>"
      ]
     },
     "metadata": {},
     "output_type": "display_data"
    },
    {
     "name": "stdout",
     "output_type": "stream",
     "text": [
      "\n",
      " Por El Metodo De Falsa Posicion Se Obtiene: \n",
      "\n",
      "|    f(m) | Error Relatico Porcentual Verdadero   | Error Aproximado    |\n",
      "|--------:|:--------------------------------------|:--------------------|\n",
      "| 59.8462 | 0.0102245892037 %                     | ----- %             |\n",
      "| 59.8412 | 0.0185279400034 %                     | 0.00830488952462 %  |\n",
      "| 59.8411 | 0.0187960962029 %                     | 0.000268206611906 % |\n"
     ]
    }
   ],
   "source": [
    "import math\n",
    "from tabulate import tabulate\n",
    "import matplotlib.pyplot as plt\n",
    "%matplotlib inline\n",
    "\n",
    "g, c, v, t=9.8, 15.0, 35.0, 9.0\n",
    "Es=0.1\n",
    "f1,f2,f3=1.0,1.0,1.0\n",
    "tabla, valores, funcion, tabla_1, Ea_prox, raices=[],[],[],[],[],[]\n",
    "xVerdadero=59.8523\n",
    "xl=55.0\n",
    "xu=60.0\n",
    "xr=0.0\n",
    "Es=0.001\n",
    "\n",
    "for i in range(-10, 200):\n",
    "    if(i==0):\n",
    "        continue\n",
    "    m=i\n",
    "    fmasa=((g*m)/c)*(1-math.pow(math.e,-(c/m)*t))-v\n",
    "    if(m>0 and m%4==0):\n",
    "        valores.append(m)\n",
    "        funcion.append(fmasa)\n",
    "        \n",
    "def resultado(m):\n",
    "    fm=((g*m)/c)*(1-math.pow(math.e,(-c/m)*t))-v\n",
    "    return fm\n",
    "\n",
    "b=0\n",
    "\n",
    "while 1:\n",
    "    \n",
    "    f1=resultado(xl)\n",
    "    f2=resultado(xu)\n",
    "    xr=xu-(f2*(xl-xu))/(f1-f2)\n",
    "    raices.append(xr)\n",
    "    f3=resultado(xr)\n",
    "    erpv=math.fabs(((xVerdadero-xr)/xVerdadero)*100)\n",
    "\n",
    "    if(b==0):\n",
    "        Ea_prox.append(\"-----\")\n",
    "        ea_prx=100\n",
    "    \n",
    "    else:\n",
    "        k=b-1\n",
    "        ea_prx=math.fabs(((raices[b]-raices[k])/raices[b])*100)\n",
    "        Ea_prox.append(ea_prx)\n",
    "    tabla.append([xr, str(erpv)+\" %\", str(Ea_prox[b])+\" %\"])\n",
    "    \n",
    "    if ((f1*f3)<0):\n",
    "        xu=xr\n",
    "    \n",
    "    if((f1*f3)>0):\n",
    "         xl=xr \n",
    "    \n",
    "    if(ea_prx<Es):\n",
    "        break\n",
    "    b+=1   \n",
    "\n",
    "plt.title(\"MASA \\n\")\n",
    "plt.axis([0, 250, -50, 50])\n",
    "plt.ylabel('f(m)')\n",
    "plt.xlabel('m')\n",
    "plt.axhline(0, color=\"black\")\n",
    "plt.plot(valores, funcion, 'r-', linewidth=2)\n",
    "plt.plot(xVerdadero,0, 'gs', label='Raiz Exacta=59.8523')\n",
    "plt.legend(loc = 'upper right', numpoints = 1)\n",
    "plt.show()\n",
    "\n",
    "print \"\\n Por El Metodo De Falsa Posicion Se Obtiene: \\n\"\n",
    "print tabulate(tabla, headers=[\"f(m)\",\"Error Relatico Porcentual Verdadero\",\"Error Aproximado\"], tablefmt=\"pipe\")"
   ]
  },
  {
   "cell_type": "code",
   "execution_count": null,
   "metadata": {
    "collapsed": true
   },
   "outputs": [],
   "source": []
  }
 ],
 "metadata": {
  "kernelspec": {
   "display_name": "Python 2",
   "language": "python",
   "name": "python2"
  },
  "language_info": {
   "codemirror_mode": {
    "name": "ipython",
    "version": 2
   },
   "file_extension": ".py",
   "mimetype": "text/x-python",
   "name": "python",
   "nbconvert_exporter": "python",
   "pygments_lexer": "ipython2",
   "version": "2.7.11"
  }
 },
 "nbformat": 4,
 "nbformat_minor": 0
}
