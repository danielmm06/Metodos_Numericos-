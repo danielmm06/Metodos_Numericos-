{
 "metadata": {
  "name": "",
  "signature": "sha256:ff0621d9825ef3533fd39d0976d454dcbdbbe2c6f228d85ef27c22d868ad3f6d"
 },
 "nbformat": 3,
 "nbformat_minor": 0,
 "worksheets": [
  {
   "cells": [
    {
     "cell_type": "code",
     "collapsed": false,
     "input": [
      "var=0\n",
      "pivoteo=0\n",
      "matriz=[[2.0,1.0,-1.0,1.0],[5.0,2.0,2.0,-4.0],[3.0,1.0,1.0,5.0]]\n",
      "\n",
      "var = len(matriz[0])-1\n",
      "    \n",
      "def cambiar(matriz,pivoteo,var):\n",
      "    temp=0.0\n",
      "    temp=matriz[pivoteo][pivoteo]\n",
      "    for y in range(0,var+1):\n",
      "        matriz[pivoteo][y]=matriz[pivoteo][y]/temp\n",
      "        \n",
      "def ceros(matriz,pivoteo,var):\n",
      "    for x in range(0,var):\n",
      "        if (x!=pivoteo):\n",
      "            c = matriz[x][pivoteo]\n",
      "            for z in range(0,var+1):\n",
      "                matriz[x][z]=((-1*c)*matriz[pivoteo][z])+matriz[x][z]\n",
      "                \n",
      "for a in range(0,var):\n",
      "    cambiar(matriz,pivoteo,var)\n",
      "    ceros(matriz,pivoteo,var)\n",
      "    pivoteo += 1\n",
      "for x in range(0,var):\n",
      "    print \"La variable X%d es: %d\"%(x+1,matriz[x][var])\n",
      "    \n",
      "ecuacion_1=2*matriz[0][3]+matriz[1][3]-matriz[2][3]\n",
      "ecuacion_2=5*matriz[0][3]+2*matriz[1][3]+2*matriz[2][3]\n",
      "ecuacion_3=3*matriz[0][3]+matriz[1][3]+matriz[2][3]\n",
      "print \"\\nSatisface la ecuacion 1, su resultado es:\", ecuacion_1\n",
      "print \"Satisface la ecuacion 2, su resultado es:\", ecuacion_2\n",
      "print \"Satisface la ecuacion 3, su resultado es:\", ecuacion_3"
     ],
     "language": "python",
     "metadata": {},
     "outputs": [
      {
       "output_type": "stream",
       "stream": "stdout",
       "text": [
        "La variable X1 es: 14\n",
        "La variable X2 es: -32\n",
        "La variable X3 es: -5\n",
        "\n",
        "Satisface la ecuacion 1, su resultado es: 1.0\n",
        "Satisface la ecuacion 2, su resultado es: -4.0\n",
        "Satisface la ecuacion 3, su resultado es: 5.0\n"
       ]
      }
     ],
     "prompt_number": 5
    },
    {
     "cell_type": "code",
     "collapsed": false,
     "input": [],
     "language": "python",
     "metadata": {},
     "outputs": []
    }
   ],
   "metadata": {}
  }
 ]
}