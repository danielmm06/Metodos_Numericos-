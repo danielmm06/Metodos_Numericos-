{
 "cells": [
  {
   "cell_type": "markdown",
   "metadata": {},
   "source": [
    "# Taller_5.3 --- Chapra"
   ]
  },
  {
   "cell_type": "code",
   "execution_count": 12,
   "metadata": {
    "collapsed": false
   },
   "outputs": [
    {
     "data": {
      "image/png": "[encoded data removed]",
      "text/plain": [
       "<matplotlib.figure.Figure at 0x76d3b70>"
      ]
     },
     "metadata": {},
     "output_type": "display_data"
    },
    {
     "name": "stdout",
     "output_type": "stream",
     "text": [
      "\n",
      " Por El Metodo De Biseccion Se Obtiene: \n",
      "\n",
      "|   Biseccion | Error Porcentual Verdadero   | Eaprox            |\n",
      "|------------:|:-----------------------------|:------------------|\n",
      "|    0.75     | 29.4422420087 %              | ----- %           |\n",
      "|    0.625    | 7.86853500722 %              | 20.0 %            |\n",
      "|    0.5625   | 2.9183184935 %               | 11.1111111111 %   |\n",
      "|    0.59375  | 2.47510825686 %              | 5.26315789474 %   |\n",
      "|    0.578125 | 0.221605118319 %             | 2.7027027027 %    |\n",
      "|    0.585938 | 1.12675156927 %              | 1.33333333333 %   |\n",
      "|    0.582031 | 0.452573225476 %             | 0.671140939597 %  |\n",
      "|    0.580078 | 0.115484053579 %             | 0.3367003367 %    |\n",
      "|    0.579102 | 0.05306053237 %              | 0.168634064081 %  |\n",
      "|    0.57959  | 0.0312117606043 %            | 0.0842459983151 % |\n",
      "\n",
      " Por El Metodo De Falsa Posicion Se Obtiene: \n",
      "\n",
      "|   Falsa Posicion | Error porcentual verdadero   | Eaprox            |\n",
      "|-----------------:|:-----------------------------|:------------------|\n",
      "|         0.642728 | 10.9281735983 %              | ----- %           |\n",
      "|         0.588017 | 1.48568162954 %              | 9.30426028293 %   |\n",
      "|         0.580537 | 0.194654241408 %             | 1.28851923079 %   |\n",
      "|         0.579556 | 0.0254134146364 %            | 0.169197827826 %  |\n",
      "|         0.579428 | 0.0033601570075 %            | 0.0220525166298 % |\n",
      "|         0.579412 | 0.000488730818623 %          | 0.0028714121554 % |\n"
     ]
    }
   ],
   "source": [
    "import math\n",
    "import matplotlib.pyplot as plt\n",
    "from tabulate import tabulate\n",
    "%matplotlib inline \n",
    "\n",
    "fA, fB, f1, f2, f3=1.0, 1.0, 1.0,1.0,1.0\n",
    "xl, xu, xr, xl2, xu2, xr2=0.5,1.0,0.0,0.5,1.0,0.0\n",
    "a=0\n",
    "raices, Ea_prox, tabla_1, valores, array, raices_2, Ea_prox, Ea_prox_2, tabla_2=[],[],[],[],[],[],[],[],[]\n",
    "Es=0.1\n",
    "Es2=0.02\n",
    "xVerdadero=0.579409\n",
    "contador=-15\n",
    "\n",
    "while(contador<=15):\n",
    "    fxG=-25+82*contador-90*(math.pow(contador,2))+44*(math.pow(contador,3))-8*(math.pow(contador,4))+0.7*(math.pow(contador,5))\n",
    "    valores.append(contador)\n",
    "    array.append(fxG)\n",
    "    contador+=1\n",
    "    \n",
    "def metodo_1(x):\n",
    "    fx=-25+82*x-90*(math.pow(x,2))+44*(math.pow(x,3))-8*(math.pow(x,4))+0.7*(math.pow(x,5))\n",
    "    return fx\n",
    "\n",
    "while 1:\n",
    "    xr=(xl+xu)/2\n",
    "    raices.append(xr)\n",
    "    fA=metodo_1(xl)\n",
    "    fB=metodo_1(xr)\n",
    "    erpv=math.fabs(((xVerdadero-xr)/xVerdadero)*100)\n",
    "    if(a==0):\n",
    "        Ea_prox.append(\"-----\")\n",
    "        ea_prx=100\n",
    "    else:\n",
    "        j=a-1\n",
    "        ea_prx=math.fabs(((raices[a]-raices[j])/raices[a])*100)\n",
    "        Ea_prox.append(eaprx)\n",
    "    tabla_1.append([xr,  str(erpv)+\" %\", str(Ea_prox[a])+\" %\"])\n",
    "    if ((fA*fB)<0):\n",
    "        xu=xr\n",
    "    if((fA*fB)>0):\n",
    "         xl=xr\n",
    "    a+=1\n",
    "    if(ea_prx<Es):\n",
    "        break\n",
    "b=0\n",
    "while 1:\n",
    "    f1=metodo_1(xl2)\n",
    "    f2=metodo_1(xu2)\n",
    "    xr2=xu2-(f2*(xl2-xu2))/(f1-f2)\n",
    "    raices_2.append(xr2)\n",
    "    f3=metodo_1(xr2)\n",
    "    erpv2=math.fabs(((xVerdadero-xr2)/xVerdadero)*100)\n",
    "    if(b==0):\n",
    "        Ea_prox_2.append(\"-----\")\n",
    "        ea_prx_2=100\n",
    "    else:\n",
    "        k=b-1\n",
    "        ea_prx_2=math.fabs(((raices2[b]-raices2[k])/raices2[b])*100)\n",
    "        Ea_prox_2.append(ea_prx_2)\n",
    "    tabla_2.append([xr2, str(erpv2)+\" %\", str(Ea_prox_2[b])+\" %\"])\n",
    "    if ((f1*f3)<0):\n",
    "        xu2=xr2\n",
    "    if((f1*f3)>0):\n",
    "         xl2=xr2\n",
    "    if(ea_prx_2<Es2):\n",
    "        break    \n",
    "    b+=1\n",
    "    \n",
    "plt.title(\"f(x)\")\n",
    "plt.axis([-15, 15, -50000, 50000])\n",
    "plt.ylabel('f(x)')\n",
    "plt.xlabel('x')\n",
    "plt.axhline(0, color=\"green\")\n",
    "plt.plot(valores, array, 'b-', linewidth=2)\n",
    "plt.plot(xVerd,0, '*', label='Raiz Exacta=0.579409')\n",
    "plt.legend(loc = 'upper left', numpoints = 1)\n",
    "plt.show()\n",
    "\n",
    "print \"\\n Por El Metodo De Biseccion Se Obtiene: \\n\"\n",
    "print tabulate(tabla1, headers=[\"Biseccion\", \"Error Porcentual Verdadero\", \"Eaprox\"], tablefmt=\"pipe\")\n",
    "print \"\\n Por El Metodo De Falsa Posicion Se Obtiene: \\n\"\n",
    "print tabulate(tabla_2, headers=[\"Falsa Posicion\", \"Error porcentual verdadero\", \"Eaprox\"], tablefmt=\"pipe\")"
   ]
  },
  {
   "cell_type": "code",
   "execution_count": null,
   "metadata": {
    "collapsed": true
   },
   "outputs": [],
   "source": []
  }
 ],
 "metadata": {
  "kernelspec": {
   "display_name": "Python 2",
   "language": "python",
   "name": "python2"
  },
  "language_info": {
   "codemirror_mode": {
    "name": "ipython",
    "version": 2
   },
   "file_extension": ".py",
   "mimetype": "text/x-python",
   "name": "python",
   "nbconvert_exporter": "python",
   "pygments_lexer": "ipython2",
   "version": "2.7.11"
  }
 },
 "nbformat": 4,
 "nbformat_minor": 0
}
