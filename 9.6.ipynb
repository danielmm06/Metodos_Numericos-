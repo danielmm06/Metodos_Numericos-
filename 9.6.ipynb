{
 "cells": [
  {
   "cell_type": "code",
   "execution_count": 14,
   "metadata": {
    "collapsed": false
   },
   "outputs": [
    {
     "name": "stdout",
     "output_type": "stream",
     "text": [
      "\n",
      "El valor del determinante: 1\n",
      "El valor de la variable 0 es: 6\n",
      "El valor de la variable 1 es: -8\n",
      "El valor de la variable 2 es: 5\n",
      "\n",
      "sustitucion\n",
      "9\n",
      "9\n",
      "10\n"
     ]
    }
   ],
   "source": [
    "import math\n",
    "\n",
    "valores=[0,2,5,2,1,1,3,1,0]\n",
    "valores2=[0,2,5,2,1,1,3,1,0]\n",
    "valor=[9,9,10]\n",
    "re=[]\n",
    "fo=0\n",
    "fo1=0\n",
    "fo2=0\n",
    "\n",
    "def determinante(x):\n",
    "    x=(valores[0]*((valores[4]*valores[8])-(valores[7]*valores[5])))\n",
    "    x1=(valores[1]*((valores[3]*valores[8])-(valores[6]*valores[5])))\n",
    "    x2=(valores[2]*((valores[3]*valores[7])-(valores[4]*valores[6])))\n",
    "    l=x-x1+x2\n",
    "    return l\n",
    "\n",
    "def reecribir(lo):\n",
    "    valores[lo]=valor[0]\n",
    "    lo=lo+3\n",
    "    valores[lo]=valor[1]\n",
    "    lo=lo+3\n",
    "    valores[lo]=valor[2]\n",
    "    return l\n",
    "    \n",
    "l=determinante(valores)\n",
    "\n",
    "print \"\\nEl valor del determinante: \"+str(l)\n",
    "\n",
    "for i in [0, 1, 2]:\n",
    "    reecribir(i)\n",
    "    p=determinante(valores)/l\n",
    "    valores=[0,2,5,2,1,1,3,1,0]\n",
    "    \n",
    "    print \"El valor de la variable \"+str(i)+\" es: \"+str(p)\n",
    "    re.append(p)\n",
    "\n",
    "print \"\\nsustitucion\"\n",
    "for i in [0, 1, 2]:\n",
    "    fo=re[i]*valores[i]+fo\n",
    "    fo1=re[i]*valores[i+3]+fo1\n",
    "    fo2=re[i]*valores[i+6]+fo2\n",
    "    \n",
    "    if i==2:\n",
    "        print fo\n",
    "        print fo1\n",
    "        print fo2"
   ]
  },
  {
   "cell_type": "code",
   "execution_count": null,
   "metadata": {
    "collapsed": true
   },
   "outputs": [],
   "source": []
  }
 ],
 "metadata": {
  "kernelspec": {
   "display_name": "Python 2",
   "language": "python",
   "name": "python2"
  },
  "language_info": {
   "codemirror_mode": {
    "name": "ipython",
    "version": 2
   },
   "file_extension": ".py",
   "mimetype": "text/x-python",
   "name": "python",
   "nbconvert_exporter": "python",
   "pygments_lexer": "ipython2",
   "version": "2.7.11"
  }
 },
 "nbformat": 4,
 "nbformat_minor": 0
}
