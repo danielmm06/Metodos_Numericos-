{
 "cells": [
  {
   "cell_type": "markdown",
   "metadata": {},
   "source": [
    "#  lab 9 regla de cramer determinate 3x3\n"
   ]
  },
  {
   "cell_type": "code",
   "execution_count": 3,
   "metadata": {
    "collapsed": false
   },
   "outputs": [
    {
     "name": "stdout",
     "output_type": "stream",
     "text": [
      "\t REGLA DE CRAMER \n",
      "\n",
      "\t A1x + B1y + C1z = D1\n",
      "\t A2x + B2y + C2z = D2\n",
      "\t A3x + B3y + C3z = D3 \n",
      "\n",
      " Ingresar valores: \n",
      " Ingresar A1 => 0.3\n",
      " Ingresar B1 => 0.52\n",
      " Ingresar C1 => 1\n",
      " Ingresar D1 => -0.01\n",
      "\n",
      " Ingresar A2 => 0.5\n",
      " Ingresar B2 => 1\n",
      " Ingresar C2 => 1.9\n",
      " Ingresar D2 => 0.67\n",
      "\n",
      " Ingresar A3 => 0.1\n",
      " Ingresar B3 => 0.3\n",
      " Ingresar C3 => 0.5\n",
      " Ingresar D3 => -0.44\n",
      "\n",
      " El Resultado del determinate A es =>  [-14.89999999999975, -29.499999999999513, 19.79999999999968]\n"
     ]
    }
   ],
   "source": [
    "def determinante(A):\n",
    "    val = ((A[0][0]*A[1][1]*A[2][2])+\\\n",
    "           (A[0][1]*A[1][2]*A[2][0])+\\\n",
    "           (A[0][2]*A[1][0]*A[2][1]))-\\\n",
    "          ((A[2][0]*A[1][1]*A[0][2])+\\\n",
    "           (A[2][1]*A[1][2]*A[0][0])+\\\n",
    "           (A[2][2]*A[1][0]*A[0][1]))\n",
    "    return val\n",
    " \n",
    "def main():\n",
    "    matriz = [[0.0,0.0,0.0,0.0],\\\n",
    "              [0.0,0.0,0.0,0.0],\\\n",
    "              [0.0,0.0,0.0,0.0]]\n",
    "    res = [0.0,0.0,0.0]\n",
    "    \n",
    "    print \"\\t REGLA DE CRAMER \\n\"\n",
    "    print \"\\t A1x + B1y + C1z = D1\"\n",
    "    print \"\\t A2x + B2y + C2z = D2\"\n",
    "    print \"\\t A3x + B3y + C3z = D3 \\n\"\n",
    "    print \" Ingresar valores: \\n\"\n",
    "    \n",
    "    matriz[0][0] = input(\" Ingresar A1 => \")\n",
    "    matriz[0][1] = input(\" Ingresar B1 => \")\n",
    "    matriz[0][2] = input(\" Ingresar C1 => \")\n",
    "    matriz[0][3] = input(\" Ingresar D1 => \")\n",
    "    matriz[1][0] = input(\"\\n Ingresar A2 => \")\n",
    "    matriz[1][1] = input(\" Ingresar B2 => \")\n",
    "    matriz[1][2] = input(\" Ingresar C2 => \")\n",
    "    matriz[1][3] = input(\" Ingresar D2 => \")\n",
    "    matriz[2][0] = input(\"\\n Ingresar A3 => \")\n",
    "    matriz[2][1] = input(\" Ingresar B3 => \")\n",
    "    matriz[2][2] = input(\" Ingresar C3 => \")\n",
    "    matriz[2][3] = input(\" Ingresar D3 => \")\n",
    "    \n",
    "    mat_x = [[matriz[0][3],matriz[0][1],matriz[0][2]],\\\n",
    "             [matriz[1][3],matriz[1][1],matriz[1][2]],\\\n",
    "             [matriz[2][3],matriz[2][1],matriz[2][2]]]\n",
    "    \n",
    "    mat_y = [[matriz[0][0],matriz[0][3],matriz[0][2]],\\\n",
    "             [matriz[1][0],matriz[1][3],matriz[1][2]],\\\n",
    "             [matriz[2][0],matriz[2][3],matriz[2][2]]]\n",
    "    \n",
    "    mat_z = [[matriz[0][0],matriz[0][1],matriz[0][3]],\\\n",
    "             [matriz[1][0],matriz[1][1],matriz[1][3]],\\\n",
    "             [matriz[2][0],matriz[2][1],matriz[2][3]]]\n",
    "    \n",
    "    det_mat = determinante(matriz)\n",
    "    if (det_mat == 0):\n",
    "        print (\" \\n El Determinante A es Nulo...\")\n",
    "    else:\n",
    "        det_matx = determinante(mat_x)\n",
    "        det_maty = determinante(mat_y)\n",
    "        det_matz = determinante(mat_z)\n",
    "        res[0] = det_matx/det_mat\n",
    "        res[1] = det_maty/det_mat\n",
    "        res[2] = det_matz/det_mat\n",
    "        print \"\\n El Resultado del determinate A es => \",res\n",
    " \n",
    "main()"
   ]
  },
  {
   "cell_type": "code",
   "execution_count": null,
   "metadata": {
    "collapsed": true
   },
   "outputs": [],
   "source": []
  }
 ],
 "metadata": {
  "kernelspec": {
   "display_name": "Python 2",
   "language": "python",
   "name": "python2"
  },
  "language_info": {
   "codemirror_mode": {
    "name": "ipython",
    "version": 2
   },
   "file_extension": ".py",
   "mimetype": "text/x-python",
   "name": "python",
   "nbconvert_exporter": "python",
   "pygments_lexer": "ipython2",
   "version": "2.7.11"
  }
 },
 "nbformat": 4,
 "nbformat_minor": 0
}
