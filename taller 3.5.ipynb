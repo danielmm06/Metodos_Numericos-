{
 "cells": [
  {
   "cell_type": "markdown",
   "metadata": {},
   "source": [
    "# taller_3.5"
   ]
  },
  {
   "cell_type": "code",
   "execution_count": 25,
   "metadata": {
    "collapsed": false
   },
   "outputs": [
    {
     "name": "stdout",
     "output_type": "stream",
     "text": [
      "| Valor verdadero |  Valor aproximado | Error verdadero | Error relativo %  |\n",
      "|  0.606530659713 |    0.606530659816 |   1.04219061088 |   171.828182799 % |\n"
     ]
    }
   ],
   "source": [
    "import math\n",
    "\n",
    "n=10\n",
    "n_co=0\n",
    "x=0.5\n",
    "apro=3\n",
    "resultado=0\n",
    "mostrar=0\n",
    "\n",
    "while n>n_co:\n",
    "    if n_co==0:\n",
    "        ap_s=1\n",
    "    ap_s=(x**n_co)/(math.factorial(n_co))\n",
    "    n_co=n_co+1\n",
    "    resultado=resultado+ap_s\n",
    "    mostrar=1/(resultado)\n",
    "    error_verdadero=math.exp(x)-mostrar\n",
    "    error_relativo_p=(error_verdadero/mostrar)*100\n",
    "    error_soportado=(0.5*10**(2-apro))\n",
    "    if error_relativo_p<error_soportado:\n",
    "            break\n",
    "    \n",
    "print '|{0:15} |  {1:15} | {2:15} | {3:15} |'.format(' Valor verdadero','Valor aproximado','Error verdadero','Error relativo % ' )\n",
    "print '|{0:16} |  {1:16} | {2:15} |{3:16} % |'.format(math.exp(-x),mostrar,error_verdadero,error_relativo_p )"
   ]
  },
  {
   "cell_type": "code",
   "execution_count": null,
   "metadata": {
    "collapsed": true
   },
   "outputs": [],
   "source": []
  }
 ],
 "metadata": {
  "kernelspec": {
   "display_name": "Python 2",
   "language": "python",
   "name": "python2"
  },
  "language_info": {
   "codemirror_mode": {
    "name": "ipython",
    "version": 2
   },
   "file_extension": ".py",
   "mimetype": "text/x-python",
   "name": "python",
   "nbconvert_exporter": "python",
   "pygments_lexer": "ipython2",
   "version": "2.7.11"
  }
 },
 "nbformat": 4,
 "nbformat_minor": 0
}
