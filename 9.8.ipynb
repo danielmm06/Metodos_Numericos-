{
 "cells": [
  {
   "cell_type": "code",
   "execution_count": 7,
   "metadata": {
    "collapsed": false
   },
   "outputs": [
    {
     "name": "stdout",
     "output_type": "stream",
     "text": [
      "a) Por El Metodo De Gauss Simple:\n",
      " \n",
      "X_1 es: 0.5\n",
      "X_2 es: 8.0\n",
      "X_3 es: -6.0\n",
      "\n",
      "b) Al Sustituir los valores:\n",
      " \n",
      "Ecuacion 1:  27.0\n",
      "Ecuacion 2:  -61.5\n",
      "Ecuacion 3:  -21.5\n"
     ]
    }
   ],
   "source": [
    "matrizCoeficiente=[[10.0,2.0,-1.0],[-3.0,-6.0, 2.0],[1.0,1.0,5.0]]\n",
    "sol=[27.0,-61.5,-21.5]\n",
    "x,d,y,i,j,k=[],0.0,0.0,0,0,0\n",
    "n=len(matrizCoeficiente)\n",
    "\n",
    "for m in range (len(matrizCoeficiente)):\n",
    "    x.append(0*len(matrizCoeficiente[0]))\n",
    "\n",
    "print \"a) Por El Metodo De Gauss Simple:\\n \"\n",
    "\n",
    "for i in range(0,n):\n",
    "    for j in range(i,n):\n",
    "        if(i==j):\n",
    "            d=matrizCoeficiente[i][j]\n",
    "            for s in range (0,n):\n",
    "                matrizCoeficiente[i][s]=((matrizCoeficiente[i][s])/d)\n",
    "            sol[i]=((sol[i])/d)\n",
    "        else:\n",
    "            d=matrizCoeficiente[j][i]\n",
    "            for s in range (0,n):\n",
    "                matrizCoeficiente[j][s]=matrizCoeficiente[j][s]-(d*matrizCoeficiente[i][s])\n",
    "            sol[j]=sol[j]-(d*sol[i])\n",
    "i=n-1\n",
    "j=n-1\n",
    "\n",
    "while(i>=0):\n",
    "    y=sol[i]\n",
    "    while(j>=i):\n",
    "        y=y-x[j]*matrizCoeficiente[i][j]\n",
    "        j-=1\n",
    "    x[i]=y\n",
    "    i-=1\n",
    "    j=n-1\n",
    "for i in range (0,n):\n",
    "    k=i+1\n",
    "    print \"X_%d es: %.1f\"%(k,x[i])\n",
    "    \n",
    "print \"\\nb) Al Sustituir los valores:\\n \"\n",
    "ecuacion_A=10*x[0]+2*x[1]-x[2]\n",
    "ecuacion_B=-3*x[0]-6*x[1]+2*x[2]\n",
    "ecuacion_C=x[0]+x[1]+5*x[2]\n",
    "\n",
    "print \"Ecuacion 1: \",ecuacion_A\n",
    "print \"Ecuacion 2: \",ecuacion_B\n",
    "print \"Ecuacion 3: \",ecuacion_C"
   ]
  },
  {
   "cell_type": "code",
   "execution_count": null,
   "metadata": {
    "collapsed": true
   },
   "outputs": [],
   "source": []
  }
 ],
 "metadata": {
  "kernelspec": {
   "display_name": "Python 2",
   "language": "python",
   "name": "python2"
  },
  "language_info": {
   "codemirror_mode": {
    "name": "ipython",
    "version": 2
   },
   "file_extension": ".py",
   "mimetype": "text/x-python",
   "name": "python",
   "nbconvert_exporter": "python",
   "pygments_lexer": "ipython2",
   "version": "2.7.11"
  }
 },
 "nbformat": 4,
 "nbformat_minor": 0
}
