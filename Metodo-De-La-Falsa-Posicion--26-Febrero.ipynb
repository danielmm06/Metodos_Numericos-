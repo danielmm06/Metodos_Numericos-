{
 "cells": [
  {
   "cell_type": "code",
   "execution_count": 2,
   "metadata": {
    "collapsed": false
   },
   "outputs": [
    {
     "name": "stdout",
     "output_type": "stream",
     "text": [
      "xl            \t xu            \t xr            \n",
      " \n",
      "12.0 \t          16.0 \t 14.9113031791\n",
      "12.0 \t 14.9113031791 \t 14.7941927833\n",
      "12.0 \t 14.7941927833 \t 14.7816953379\n",
      "12.0 \t 14.7816953379 \t  14.780362843\n",
      "12.0 \t  14.780362843 \t 14.7802207839\n",
      "12.0 \t 14.7802207839 \t 14.7802056389\n",
      "12.0 \t 14.7802056389 \t 14.7802040243\n",
      "12.0 \t 14.7802040243 \t 14.7802038522\n",
      "12.0 \t 14.7802038522 \t 14.7802038339\n",
      "12.0 \t 14.7802038339 \t 14.7802038319\n",
      "12.0 \t 14.7802038319 \t 14.7802038317\n",
      "12.0 \t 14.7802038317 \t 14.7802038317\n",
      "12.0 \t 14.7802038317 \t 14.7802038317\n",
      "12.0 \t 14.7802038317 \t 14.7802038317\n",
      "12.0 \t 14.7802038317 \t 14.7802038317\n",
      "12.0 \t 14.7802038317 \t 14.7802038317\n"
     ]
    }
   ],
   "source": [
    "import math\n",
    "import numpy as np\n",
    "import pylab as pl\n",
    "\n",
    "valoresx = []\n",
    "valoresy = []\n",
    "valoresejex=[]\n",
    "valoresejey=[]\n",
    "valoresx1=[]\n",
    "valoresy1=[]\n",
    "\n",
    "g=9.8\n",
    "m=68.1\n",
    "t=10\n",
    "v=40\n",
    "xl=12.0\n",
    "xu=16.0\n",
    "\n",
    "print '{0:13} \\t {1:13} \\t {2:13} \\n '.format(\"xl\",\"xu\",\"xr\")\n",
    "\n",
    "def f(c):\n",
    "    return ((g*m/c)*(1-math.exp(-(c/m)*t)))-v\n",
    "\n",
    "def fxr(xl,xu):\n",
    "    return xu-((f(xu)*(xl-xu))/(f(xl)-f(xu)))\n",
    "if((f(xl)*f(xu))<0):\n",
    "    xr=fxr(xl,xu)\n",
    "\n",
    "    print '{0:3} \\t {1:13} \\t {2:13}'.format(xl,xu,xr)\n",
    "    \n",
    "while((f(xl)*f(xr))!=0):\n",
    "    if((f(xl)*f(xr))<0):\n",
    "        xu=xr\n",
    "        xr=fxr(xl,xu)\n",
    "        print '{0:3} \\t {1:13} \\t {2:13}'.format(xl,xu,xr)\n",
    "        \n",
    "    else:\n",
    "        if((f(xl)*f(xr))>0):\n",
    "            xl=xr\n",
    "            xr=fxr(xl,xu)\n",
    "            print '{0:3} \\t {1:13} \\t {2:13} '.format(xl,xu,xr)\n",
    "\n",
    "x=12        \n",
    "i=0\n",
    "\n",
    "#while(i<=20):\n",
    "#    valoresejex.append(i)\n",
    "#    valoresejey.append(0)\n",
    "#    i+=1\n",
    "#while(x<=16):\n",
    " #   valoresx.append(x)\n",
    "#valoresy.append(f(x))\n",
    "  #  x=x+0.01\n",
    "    \n",
    "#valoresx1.append(0)   \n",
    "#valoresy1.append(xr)   \n",
    "            \n",
    "#f1=  pl.plot(valoresx,valoresy,\"r\")\n",
    "#f2=  pl.plot(valoresejex,valoresejey,\"b\")\n",
    "#f3=  pl.plot(valoresy1,valoresx1,\".\")\n",
    "\n",
    "\n",
    "#pl.title(\"Paracaidista \\n\")\n",
    "#pl.xlabel(\" C \\n\")\n",
    "#pl.ylabel(\" F(c) \")\n",
    "#f=[\" Funcion \"]\n",
    "#pl.legend(f,loc=4)\n",
    "#pl.xlim(10,17)\n",
    "#pl.ylim(-4, 7)\n",
    "#pl.grid(True)\n",
    "\n",
    "#pl.show()"
   ]
  },
  {
   "cell_type": "code",
   "execution_count": null,
   "metadata": {
    "collapsed": true
   },
   "outputs": [],
   "source": []
  }
 ],
 "metadata": {
  "kernelspec": {
   "display_name": "Python 2",
   "language": "python",
   "name": "python2"
  },
  "language_info": {
   "codemirror_mode": {
    "name": "ipython",
    "version": 2
   },
   "file_extension": ".py",
   "mimetype": "text/x-python",
   "name": "python",
   "nbconvert_exporter": "python",
   "pygments_lexer": "ipython2",
   "version": "2.7.11"
  }
 },
 "nbformat": 4,
 "nbformat_minor": 0
}
