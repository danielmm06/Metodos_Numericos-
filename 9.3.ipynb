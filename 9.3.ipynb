{
 "cells": [
  {
   "cell_type": "code",
   "execution_count": 3,
   "metadata": {
    "collapsed": false
   },
   "outputs": [
    {
     "name": "stdout",
     "output_type": "stream",
     "text": [
      "a) [A]x[B]:  [[4.0, 15], [8.0, 29], [9.0, 29]]\n",
      "\n",
      " [A]x[C]:  [[-16, 4], [-24, 4], [2, -10]]\n",
      "\n",
      " [B]x[C]:  [[-7, 1], [-5.0, 1.0]]\n",
      "\n",
      " [C]x[B]:  [[1.0, 2], [-2.5, -7]]\n",
      "\n",
      "b) multiplicacion [B]x[A]: \n",
      "No se pudo multiplicar.\n",
      "\n",
      "     multiplicacion [C]x[A]: \n",
      "No se pudo multiplicar.\n",
      "c) [B]x[C] NO es igual a [C]x[B] por lo tanto no cumple la propiedad conmutativa\n"
     ]
    }
   ],
   "source": [
    "A=[[1,6],[3,10],[7,4]]\n",
    "B=[[1,3],[0.5, 2]]\n",
    "C=[[2,-2],[-3,1]]\n",
    "\n",
    "def multiplicacion(a,b):\n",
    "    producto=[]\n",
    "    for i in range(len(a)):\n",
    "        producto.append([0]*(len(b[0])))\n",
    "    for i in range(len(a)):\n",
    "        for j in range(len(b[0])):\n",
    "            for k in range(len(a[0])):\n",
    "                producto[i][j]+= a[i][k]*b[k][j]\n",
    "    return producto\n",
    "\n",
    "def verificar(matriz_1,matriz_2):\n",
    "    if(len(matriz_1[0])!=len(matriz_2)):\n",
    "        print \"No se pudo multiplicar.\"\n",
    "    if(len(matriz_1[0])==len(matriz_2)):\n",
    "        resultado=multiplicacion(matriz_1,matriz_2)\n",
    "        return resultado\n",
    "    \n",
    "print \"a) [A]x[B]:  \"+str(verificar(A,B))\n",
    "print \"\\n [A]x[C]:  \"+str(verificar(A,C))\n",
    "print \"\\n [B]x[C]:  \"+str(verificar(B,C))\n",
    "print \"\\n [C]x[B]:  \"+str(verificar(C,B))\n",
    "\n",
    "print \"\\nb) multiplicacion [B]x[A]: \"\n",
    "verificar(B,A)\n",
    "print \"\\n     multiplicacion [C]x[A]: \"\n",
    "verificar(C,A)\n",
    "print \"c) [B]x[C] NO es igual a [C]x[B] por lo tanto no cumple la propiedad conmutativa\""
   ]
  },
  {
   "cell_type": "code",
   "execution_count": null,
   "metadata": {
    "collapsed": true
   },
   "outputs": [],
   "source": []
  }
 ],
 "metadata": {
  "kernelspec": {
   "display_name": "Python 2",
   "language": "python",
   "name": "python2"
  },
  "language_info": {
   "codemirror_mode": {
    "name": "ipython",
    "version": 2
   },
   "file_extension": ".py",
   "mimetype": "text/x-python",
   "name": "python",
   "nbconvert_exporter": "python",
   "pygments_lexer": "ipython2",
   "version": "2.7.11"
  }
 },
 "nbformat": 4,
 "nbformat_minor": 0
}
