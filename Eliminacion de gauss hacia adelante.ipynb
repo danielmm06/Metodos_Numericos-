{
 "cells": [
  {
   "cell_type": "markdown",
   "metadata": {},
   "source": [
    "# Eliminacion de gauss hacia adelante"
   ]
  },
  {
   "cell_type": "code",
   "execution_count": 4,
   "metadata": {
    "collapsed": false
   },
   "outputs": [
    {
     "name": "stdout",
     "output_type": "stream",
     "text": [
      "Sistema Ecuaciones Propuesto: \n",
      "\n",
      "Matriz A: \n",
      "\n",
      "[[  3.    -0.1   -0.2    7.85]\n",
      " [  0.1    7.    -0.3  -19.3 ]\n",
      " [  0.3   -0.2   10.    71.4 ]] \n",
      "\n",
      "Resultados: \n",
      "\n",
      "Matriz A (Eliminacion hacia adelante): \n",
      "\n",
      "[[  3.          -0.1         -0.2          7.85      ]\n",
      " [  0.           7.00333333  -0.29333333 -19.56166667]\n",
      " [  0.           0.          10.01204188  70.08429319]]\n"
     ]
    }
   ],
   "source": [
    "import numpy as np\n",
    "\n",
    "A = np.array([[3, -0.1, -0.2, 7.85], [0.1, 7, -0.3, -19.3], [0.3, -0.2, 10, 71.4]])\n",
    "\n",
    "print \"Sistema Ecuaciones Propuesto: \\n\"\n",
    "print \"Matriz A: \\n\"\n",
    "print A, \"\\n\"\n",
    "\n",
    "n=3\n",
    "\n",
    "for k in range(0, n-1):\n",
    "    for i in range(k+1, n):\n",
    "        factor = A[i,k] / (A[k,k] * 1.0)\n",
    "        for j in range(k,n):\n",
    "            A[i,j] = A[i,j] - factor * A[k,j]\n",
    "        A[i,n] = A[i,n] - factor * A[k,n]\n",
    "\n",
    "print \"Resultados: \\n\"\n",
    "print \"Matriz A (Eliminacion hacia adelante): \\n\"\n",
    "print A"
   ]
  },
  {
   "cell_type": "code",
   "execution_count": null,
   "metadata": {
    "collapsed": true
   },
   "outputs": [],
   "source": []
  }
 ],
 "metadata": {
  "kernelspec": {
   "display_name": "Python 2",
   "language": "python",
   "name": "python2"
  },
  "language_info": {
   "codemirror_mode": {
    "name": "ipython",
    "version": 2
   },
   "file_extension": ".py",
   "mimetype": "text/x-python",
   "name": "python",
   "nbconvert_exporter": "python",
   "pygments_lexer": "ipython2",
   "version": "2.7.11"
  }
 },
 "nbformat": 4,
 "nbformat_minor": 0
}
