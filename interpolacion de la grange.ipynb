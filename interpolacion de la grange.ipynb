{
 "cells": [
  {
   "cell_type": "code",
   "execution_count": 1,
   "metadata": {
    "collapsed": false
   },
   "outputs": [
    {
     "name": "stdout",
     "output_type": "stream",
     "text": [
      "                     4                         3                      2       \n",
      "6.66666666666559e-5⋅x  + 0.000666666666667703⋅x  + 0.158333333333324⋅x  + 8.58\n",
      "\n",
      "                                 \n",
      "333333333348⋅x + 1.99999999999977\n"
     ]
    }
   ],
   "source": [
    "\n",
    "from sympy import *\n",
    "import matplotlib.pyplot as plt\n",
    "from  sympy.polys.specialpolys import *\n",
    "from matplotlib import rcParams\n",
    "import numpy as np\n",
    " \n",
    "\n",
    "x = symbols('x')\n",
    " \n",
    "init_printing(use_unicode=True)\n",
    " \n",
    "Carga = np.array([5, 10, 15, 20, 25], dtype=float)\n",
    "Contraccion = np.array([49, 105, 172, 253, 352], dtype=float)\n",
    "Lagrange = expand(interpolating_poly(len(Carga), x, X=Carga, Y=Contraccion))\n",
    "pprint(Lagrange)\n",
    "Lagrange = horner(Lagrange)\n",
    "P = lambdify(x, Lagrange, 'numpy')\n",
    " \n",
    " \n",
    "fig, ax = plt.subplots()\n",
    "title = r'$Polinomio \\; De \\; Lagrange \\; Grado \\; n={}$'.format(len(Carga))\n",
    "ax.set_title(title)\n",
    "t = np.linspace(Carga[0], Carga[-1], 1000)\n",
    "ax.axis([Carga[0] - 1, Carga[-1] + 1, 0, Contraccion[-1] + 48])\n",
    "     \n",
    "ax.set_xlabel(r'$Carga\\; (Kp)$', color='blue')\n",
    "ax.set_ylabel(r'$Contraccion\\; (mm)$', color='blue')\n",
    "     \n",
    "ax.grid('on')\n",
    "     \n",
    "ax.plot(t, P(t), 'b-', lw=1.5)\n",
    "ax.plot(Carga, Contraccion, 'r*', lw=1.5)\n",
    "     \n",
    "text1 = r'$Pol.\\; Lagrange$'\n",
    "text2 = r'$Puntos\\; Tabla$'\n",
    "     \n",
    "plt.legend([text1, text2])\n",
    "     \n",
    "plt.show()"
   ]
  },
  {
   "cell_type": "code",
   "execution_count": null,
   "metadata": {
    "collapsed": true
   },
   "outputs": [],
   "source": []
  }
 ],
 "metadata": {
  "kernelspec": {
   "display_name": "Python 2",
   "language": "python",
   "name": "python2"
  },
  "language_info": {
   "codemirror_mode": {
    "name": "ipython",
    "version": 2
   },
   "file_extension": ".py",
   "mimetype": "text/x-python",
   "name": "python",
   "nbconvert_exporter": "python",
   "pygments_lexer": "ipython2",
   "version": "2.7.11"
  }
 },
 "nbformat": 4,
 "nbformat_minor": 0
}
