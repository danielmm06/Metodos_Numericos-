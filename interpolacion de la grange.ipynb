{
 "cells": [
  {
   "cell_type": "code",
   "execution_count": 5,
   "metadata": {
    "collapsed": false
   },
   "outputs": [
    {
     "name": "stdout",
     "output_type": "stream",
     "text": [
      "\n",
      " Lineal 0.462098120373\n",
      "\n",
      " Cuadratica 0.565844346901\n"
     ]
    }
   ],
   "source": [
    "import math\n",
    "import numpy as np\n",
    "import pylab as pl\n",
    "\n",
    "valoresx_1 = []\n",
    "valoresy_1 = []\n",
    "valoresx = []\n",
    "valoresy = []\n",
    "valoresx_2=[]\n",
    "valoresy_2=[]\n",
    "valoresx_3=[]\n",
    "valoresy_3=[]\n",
    "valoresx_5=[]\n",
    "valoresy_5=[]\n",
    "\n",
    "x_0=1.0\n",
    "x_1=4.0\n",
    "x_2=6.0\n",
    "x=2.0\n",
    "\n",
    "def fx1(x):\n",
    "        return math.log(x)\n",
    "def fix(x_0,x_1,x_2,x):\n",
    "    return (((x-x_1)/(x_0-x_1))*fx1(x_0))+(((x-x_0)/(x_1-x_0))*fx1(x_1))\n",
    "\n",
    "def fix2(x_0,x_1,x_2,x):\n",
    "    return ((((x-x_1)*(x-x_2))/((x_0-x_1)*(x_0-x_2)))*fx1(x_0))+((((x-x_0)*(x-x_2))/((x_1-x_0)*(x_1-x_2)))*fx1(x_1))+((((x-x_0)*(x-x_1))/((x_2-x_0)*(x_2-x_1)))*fx1(x_2))\n",
    "\n",
    "y_1=0.0\n",
    "y_1=fix(x_0,x_1,x_2,x)\n",
    "y_2=fix2(x_0,x_1,x_2,x)\n",
    "valoresx_1.append(x)\n",
    "valoresy_1.append(y_1)\n",
    "valoresx_3.append(x)\n",
    "valoresy_3.append(y_2)\n",
    "print \"\\n Lineal\", y_1\n",
    "print \"\\n Cuadratica\", y_2\n",
    "\n",
    "valoresx.append(x_0)\n",
    "valoresy.append(0)\n",
    "y=fx1(x_1)\n",
    "valoresx.append(x_1)\n",
    "valoresy.append(y)\n",
    "x=0\n",
    "while (x<=4):\n",
    "    y_2=fix2(x_0,x_1,x_2,x)\n",
    "    x+=0.001\n",
    "    valoresx_5.append(x)\n",
    "    valoresy_5.append(y_2)\n",
    "   \n",
    "    \n",
    "\n",
    "while (x_0<=x_1):\n",
    "    y_1=fx1(x_0)\n",
    "    valoresx_2.append(x_0)\n",
    "    valoresy_2.append(y_1)\n",
    "    x=x_0\n",
    "    x_0+=0.00001\n",
    "\n",
    "\n",
    "f1=  pl.plot(valoresx_1,valoresy_1, '.')\n",
    "f2=  pl.plot(valoresx,valoresy,\"r\")\n",
    "f3=  pl.plot(valoresx_2,valoresy_2, \"b\")\n",
    "f4=  pl.plot(valoresx_3,valoresy_3, '.')\n",
    "f5=  pl.plot(valoresx_5,valoresy_5,\"orange\")\n",
    "\n",
    "pl.title(\"Interpolacion Lagrange\")\n",
    "pl.xlabel(\"x\")\n",
    "pl.ylabel(\"y\")\n",
    "f=[\"Log(2) Lineal\",\"Interpolacion Lineal\",\"Real\",\"Log(2) Cuadratica\",\"Interpolacion Cuadratica\"]\n",
    "pl.legend(f,loc=4)\n",
    "\n",
    "\n",
    "pl.xlim(0, 7)\n",
    "pl.ylim(0, 2.5)\n",
    "pl.grid(True)\n",
    "\n",
    "pl.show()"
   ]
  },
  {
   "cell_type": "code",
   "execution_count": null,
   "metadata": {
    "collapsed": true
   },
   "outputs": [],
   "source": []
  }
 ],
 "metadata": {
  "kernelspec": {
   "display_name": "Python 2",
   "language": "python",
   "name": "python2"
  },
  "language_info": {
   "codemirror_mode": {
    "name": "ipython",
    "version": 2
   },
   "file_extension": ".py",
   "mimetype": "text/x-python",
   "name": "python",
   "nbconvert_exporter": "python",
   "pygments_lexer": "ipython2",
   "version": "2.7.11"
  }
 },
 "nbformat": 4,
 "nbformat_minor": 0
}
