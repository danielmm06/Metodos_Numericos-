{
 "cells": [
  {
   "cell_type": "markdown",
   "metadata": {},
   "source": [
    "# Luis Daniel Malaver Mendoza  Cod: 160003416"
   ]
  },
  {
   "cell_type": "code",
   "execution_count": 1,
   "metadata": {
    "collapsed": false
   },
   "outputs": [
    {
     "name": "stdout",
     "output_type": "stream",
     "text": [
      "     Termino   e^x aproximado           Et                   Ea \n",
      "\n",
      "\t1 \t 1.0 \t\t 64.87212707 \t\t ---\n",
      "\t2 \t 1.5 \t\t 9.91475138001 \t\t 33.3333333333\n",
      "\t3 \t 1.625 \t\t 1.45977050462 \t\t 7.69230769231\n",
      "\t4 \t 1.64583333333 \t\t 0.17546961216 \t\t 1.26582278481\n",
      "\t5 \t 1.6484375 \t\t 0.0172145258846 \t\t 0.157977883096\n",
      "\t6 \t 1.64869791667 \t\t 0.00141651379707 \t\t 0.0157952930027\n"
     ]
    }
   ],
   "source": [
    "import math\n",
    "\n",
    "n=3\n",
    "es=0.5*(10**(2-n))\n",
    "x=0.5\n",
    "aux=0\n",
    "termino=1\n",
    "verdadero=math.exp(x)\n",
    "anterior=-1\n",
    "ea=100\n",
    "valor=0\n",
    "\n",
    "print \"     Termino   e^x aproximado           Et                   Ea \\n\"\n",
    "\n",
    "def f(x):\n",
    "    return (x**aux)/(math.factorial(aux))\n",
    "while (ea>=es):\n",
    "    valor+=f(x)\n",
    "    et=((verdadero-valor)/valor)*100\n",
    "    if(anterior<0):\n",
    "        ea=\"---\"\n",
    "    if(anterior>=0):\n",
    "        ea=((valor-anterior)/valor)*100\n",
    "    anterior=valor\n",
    "    print '\\t{0} \\t {1} \\t\\t {2} \\t\\t {3}'.format(termino,valor,et,ea)\n",
    "    aux+=1\n",
    "    termino+=1\n",
    "\n"
   ]
  },
  {
   "cell_type": "code",
   "execution_count": null,
   "metadata": {
    "collapsed": true
   },
   "outputs": [],
   "source": []
  },
  {
   "cell_type": "code",
   "execution_count": null,
   "metadata": {
    "collapsed": true
   },
   "outputs": [],
   "source": []
  }
 ],
 "metadata": {
  "kernelspec": {
   "display_name": "Python 2",
   "language": "python",
   "name": "python2"
  },
  "language_info": {
   "codemirror_mode": {
    "name": "ipython",
    "version": 2
   },
   "file_extension": ".py",
   "mimetype": "text/x-python",
   "name": "python",
   "nbconvert_exporter": "python",
   "pygments_lexer": "ipython2",
   "version": "2.7.11"
  }
 },
 "nbformat": 4,
 "nbformat_minor": 0
}
