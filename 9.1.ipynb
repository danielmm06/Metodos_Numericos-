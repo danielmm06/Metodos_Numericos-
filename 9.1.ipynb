{
 "cells": [
  {
   "cell_type": "code",
   "execution_count": null,
   "metadata": {
    "collapsed": true
   },
   "outputs": [],
   "source": [
    "matriz = [[0,2,5],[1,0,1],[8,3,0]]\n",
    " \n",
    "def print_r(matriz):\n",
    "    for fila in matriz:\n",
    "        print fila\n",
    "def transpuesta(matriz):\n",
    "    fila1 = len(matriz)\n",
    "    columna = len(matriz[0])\n",
    "    return [[matriz[j][i] for j in xrange(fila1)] for i in xrange(columna)]\n",
    " \n",
    "print \"Matriz Original \\n\"\n",
    "print_r(matriz)\n",
    "print \"\\n Matriz TRANSPUESTA \\n\"\n",
    "print_r(transpuesta(matriz))"
   ]
  }
 ],
 "metadata": {
  "kernelspec": {
   "display_name": "Python 2",
   "language": "python",
   "name": "python2"
  },
  "language_info": {
   "codemirror_mode": {
    "name": "ipython",
    "version": 2
   },
   "file_extension": ".py",
   "mimetype": "text/x-python",
   "name": "python",
   "nbconvert_exporter": "python",
   "pygments_lexer": "ipython2",
   "version": "2.7.11"
  }
 },
 "nbformat": 4,
 "nbformat_minor": 0
}
