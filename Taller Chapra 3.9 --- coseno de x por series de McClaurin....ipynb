{
 "cells": [
  {
   "cell_type": "markdown",
   "metadata": {},
   "source": [
    "# Taller Chapra 3.9 --- coseno de x por series de McClaurin"
   ]
  },
  {
   "cell_type": "code",
   "execution_count": 2,
   "metadata": {
    "collapsed": false
   },
   "outputs": [
    {
     "name": "stdout",
     "output_type": "stream",
     "text": [
      " Coseno Por Series De McCLAURIN \n",
      "\n",
      "1.0\n",
      "0.555867801951\n",
      "0.588743370175\n",
      "0.587769963616\n",
      "0.587785403659\n",
      "0.587785251272\n",
      "\n",
      " Rodeando a 8 cifras significativas: \n",
      "\n",
      "|    Coseno de x  |\n",
      "|----------------:|\n",
      "|        1        |\n",
      "|        0.555868 |\n",
      "|        0.588743 |\n",
      "|        0.58777  |\n",
      "|        0.587785 |\n",
      "|        0.587785 |\n"
     ]
    }
   ],
   "source": [
    "import math\n",
    "from tabulate import tabulate\n",
    "\n",
    "x=math.radians((0.3)*180)\n",
    "coseno=math.cos(x)\n",
    "valor=round(coseno,8)\n",
    "value2=0.0\n",
    "ant=[]\n",
    "valAprx=[]\n",
    "tabla=[]\n",
    "i=0\n",
    "\n",
    "print \" Coseno Por Series De McCLAURIN \\n\"\n",
    "\n",
    "while 1:\n",
    "    if(i%2==0):\n",
    "        value = (math.pow(x, (i*2)))/math.factorial(i*2)\n",
    "        valueAnt = value2\n",
    "        value2+=value\n",
    "        ant.append(valueAnt)\n",
    "        valAprx.append(value2)\n",
    "    else:\n",
    "        value = (math.pow(x, (i*2)))/math.factorial(i*2)\n",
    "        valueAnt = value2\n",
    "        value2-=value\n",
    "        ant.append(valueAnt)\n",
    "        valAprx.append(value2)\n",
    "   \n",
    "    print value2\n",
    "    tabla.append([valAprx[i]])\n",
    "    i+=1\n",
    "    if(round(value2, 8)==valor):\n",
    "        break\n",
    "print\"\\n Rodeando a 8 cifras significativas: \\n\"\n",
    "print tabulate(tabla, headers=[\" Coseno de x \"],  tablefmt=\"pipe\")\n",
    "        "
   ]
  },
  {
   "cell_type": "code",
   "execution_count": null,
   "metadata": {
    "collapsed": true
   },
   "outputs": [],
   "source": []
  }
 ],
 "metadata": {
  "kernelspec": {
   "display_name": "Python 2",
   "language": "python",
   "name": "python2"
  },
  "language_info": {
   "codemirror_mode": {
    "name": "ipython",
    "version": 2
   },
   "file_extension": ".py",
   "mimetype": "text/x-python",
   "name": "python",
   "nbconvert_exporter": "python",
   "pygments_lexer": "ipython2",
   "version": "2.7.11"
  }
 },
 "nbformat": 4,
 "nbformat_minor": 0
}
