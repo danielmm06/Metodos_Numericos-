{
 "cells": [
  {
   "cell_type": "markdown",
   "metadata": {},
   "source": [
    "# taller_3.7"
   ]
  },
  {
   "cell_type": "code",
   "execution_count": 9,
   "metadata": {
    "collapsed": false
   },
   "outputs": [
    {
     "name": "stdout",
     "output_type": "stream",
     "text": [
      "| Valor verdadero |  Valor aproximado | Error verdadero   | Error relativo %    |\n",
      "|        0.743053 |          0.743053 | 9.99200722163e-16 | 1.34472335373e-13 % |\n"
     ]
    }
   ],
   "source": [
    "aprox=0\n",
    "x=1.37\n",
    "ecu1=x**3-7*x**2+8*x+0.35\n",
    "ecu2=((x-7)*x+8)*x+0.35\n",
    "\n",
    "error_verdadero = ecu1-ecu2\n",
    "error_relativo_p = (error_verdadero/ecu1)*100\n",
    "error_soportado = (0.5*10**(2-aprox))\n",
    "    \n",
    "print'|{0:15} |  {1:15} | {2:17} | {3:19} |'.format(' Valor verdadero','Valor aproximado','Error verdadero','Error relativo % ' )\n",
    "print'|{0:16} |  {1:16} | {2:15} | {3:15} % |'.format(ecu1, ecu2, error_verdadero, error_relativo_p)"
   ]
  },
  {
   "cell_type": "code",
   "execution_count": null,
   "metadata": {
    "collapsed": true
   },
   "outputs": [],
   "source": []
  }
 ],
 "metadata": {
  "kernelspec": {
   "display_name": "Python 2",
   "language": "python",
   "name": "python2"
  },
  "language_info": {
   "codemirror_mode": {
    "name": "ipython",
    "version": 2
   },
   "file_extension": ".py",
   "mimetype": "text/x-python",
   "name": "python",
   "nbconvert_exporter": "python",
   "pygments_lexer": "ipython2",
   "version": "2.7.11"
  }
 },
 "nbformat": 4,
 "nbformat_minor": 0
}
