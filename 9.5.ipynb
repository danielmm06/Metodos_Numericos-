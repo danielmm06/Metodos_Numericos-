{
 "cells": [
  {
   "cell_type": "code",
   "execution_count": 5,
   "metadata": {
    "collapsed": false
   },
   "outputs": [
    {
     "name": "stdout",
     "output_type": "stream",
     "text": [
      "El determinante de la matriz de coeficientes es: 0.86\n",
      "\n",
      "Eliminacion de incognitas: \n",
      "\n",
      " El valor de X1 es: 404.6512\n",
      " El valor de X2 es: 56.5116\n"
     ]
    }
   ],
   "source": [
    "import math\n",
    "import pylab as plt\n",
    "\n",
    "vectory=[];\n",
    "res=0\n",
    "otro=0\n",
    "vectorx=[]\n",
    "vectory=[]\n",
    "vectorx_1=[]\n",
    "vectory_1=[]\n",
    "\n",
    "for t in range(1500):\n",
    "    t=t+0.5\n",
    "    x_1=float(format((0.11*t)+12.0, '.4g'))\n",
    "    vectorx.append(x_1)\n",
    "    vectory.append(t)\n",
    "    x_2=float(format(((2.0/17.4)*t)+10, '.4g'))\n",
    "    vectorx_1.append(x_2)\n",
    "    vectory_1.append(t)\n",
    "    if x_1==x_2:\n",
    "        otro=x_1\n",
    "\n",
    "plt.plot(vectory_1,vectorx_1,'b',linewidth=2)\n",
    "plt.plot(vectory,vectorx,'r',linewidth=2)\n",
    "plt.hold(True)\n",
    "plt.axis([380,430,50,60])\n",
    "plt.xlabel('x1')\n",
    "plt.ylabel('x2')\n",
    "plt.title('Grafica Ecuacion Lineal')\n",
    "plt.grid(True)\n",
    "plt.savefig(\"grafica.png\")\n",
    "plt.legend(loc='lower right')\n",
    "plt.show()\n",
    "\n",
    "#determinante\n",
    "matrizCoeficiente=[[-1.1,10],[-2,17.4]]\n",
    "det=matrizCoeficiente[0][0]*matrizCoeficiente[1][1]-matrizCoeficiente[0][1]*matrizCoeficiente[1][0]\n",
    "\n",
    "print \"El determinante de la matriz de coeficientes es: %.2f\" %det\n",
    "\n",
    "aux=[]\n",
    "sol=[120,174]\n",
    "aux_2=[]\n",
    "for i in range(len(matrizCoeficiente)):\n",
    "    aux.append([])\n",
    "    if(i==0):\n",
    "        for j in range(len(matrizCoeficiente[0])):\n",
    "            aux[i].append(matrizCoeficiente[1][0]*matrizCoeficiente[i][j])\n",
    "        aux_2.append(matrizCoeficiente[1][0]*sol[i])\n",
    "    else:\n",
    "        for j in range(len(matrizCoeficiente[1])):\n",
    "            aux[i].append(matrizCoeficiente[0][0]*matrizCoeficiente[i][j])\n",
    "        aux_2.append(matrizCoeficiente[0][0]*sol[i])\n",
    "\n",
    "        print \"\\nEliminacion de incognitas: \\n\"\n",
    "        \n",
    "var_2=(aux_2[0]-aux_2[1])/(aux[0][1]-aux[1][1])\n",
    "var_1=(sol[0]-matrizCoeficiente[0][1]*var_2)/matrizCoeficiente[0][0]\n",
    "\n",
    "print \" El valor de X1 es: %.4f\" %var_1\n",
    "print \" El valor de X2 es: %.4f\" %var_2"
   ]
  },
  {
   "cell_type": "code",
   "execution_count": null,
   "metadata": {
    "collapsed": true
   },
   "outputs": [],
   "source": []
  }
 ],
 "metadata": {
  "kernelspec": {
   "display_name": "Python 2",
   "language": "python",
   "name": "python2"
  },
  "language_info": {
   "codemirror_mode": {
    "name": "ipython",
    "version": 2
   },
   "file_extension": ".py",
   "mimetype": "text/x-python",
   "name": "python",
   "nbconvert_exporter": "python",
   "pygments_lexer": "ipython2",
   "version": "2.7.11"
  }
 },
 "nbformat": 4,
 "nbformat_minor": 0
}
