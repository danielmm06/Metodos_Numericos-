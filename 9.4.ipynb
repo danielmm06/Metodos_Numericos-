{
 "cells": [
  {
   "cell_type": "code",
   "execution_count": 6,
   "metadata": {
    "collapsed": false
   },
   "outputs": [
    {
     "name": "stdout",
     "output_type": "stream",
     "text": [
      "|y               |  x               |\n",
      "|              0 |                6 |\n"
     ]
    }
   ],
   "source": [
    "import math\n",
    "import pylab as plt\n",
    "\n",
    "vectory=[];\n",
    "res=0\n",
    "otro=0\n",
    "vectorx=[]\n",
    "vectory=[]\n",
    "vectorx_1=[]\n",
    "vectory_1=[]\n",
    "\n",
    "for t in range(15):\n",
    "    t=t+0.5\n",
    "    x_1=((-1.0/6.0)*t)+(34.0/6.0)\n",
    "    vectorx.append(x_1)\n",
    "    vectory.append(t)\n",
    "    x_2=((1.0/2.0)*t)+3.0\n",
    "    vectorx_1.append(x_2)\n",
    "    vectory_1.append(t)\n",
    "    if x_1==x_2:\n",
    "        otro=x_1\n",
    "\n",
    "plt.plot(vectory_1,vectorx_1,'b',linewidth=2,label='-x1+2*x2=18')\n",
    "plt.plot(vectory,vectorx,'r',linewidth=2,label='3x1+2*x2=2')\n",
    "plt.hold(True)\n",
    "\n",
    "print'|{0:15} |  {1:15} |'.format('y','x')\n",
    "tiempo=(-2*otro+18)/3\n",
    "\n",
    "print'|{0:15} |  {1:15} |'.format(otro,tiempo)\n",
    "plt.xlabel('x1')\n",
    "plt.ylabel('x2')\n",
    "plt.title('Grafica Ecuacion Lineal')\n",
    "plt.grid(True)\n",
    "plt.savefig(\"grafica.png\")\n",
    "plt.legend(loc='lower right')\n",
    "plt.show()"
   ]
  },
  {
   "cell_type": "code",
   "execution_count": null,
   "metadata": {
    "collapsed": true
   },
   "outputs": [],
   "source": []
  },
  {
   "cell_type": "code",
   "execution_count": null,
   "metadata": {
    "collapsed": true
   },
   "outputs": [],
   "source": []
  }
 ],
 "metadata": {
  "kernelspec": {
   "display_name": "Python 2",
   "language": "python",
   "name": "python2"
  },
  "language_info": {
   "codemirror_mode": {
    "name": "ipython",
    "version": 2
   },
   "file_extension": ".py",
   "mimetype": "text/x-python",
   "name": "python",
   "nbconvert_exporter": "python",
   "pygments_lexer": "ipython2",
   "version": "2.7.11"
  }
 },
 "nbformat": 4,
 "nbformat_minor": 0
}
