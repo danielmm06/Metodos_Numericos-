{
 "cells": [
  {
   "cell_type": "markdown",
   "metadata": {},
   "source": [
    "# gauss sustitucion hacia atras"
   ]
  },
  {
   "cell_type": "code",
   "execution_count": 1,
   "metadata": {
    "collapsed": false
   },
   "outputs": [
    {
     "name": "stdout",
     "output_type": "stream",
     "text": [
      "Matriz A: \n",
      "\n",
      "[[  3.    -0.1   -0.2    7.85]\n",
      " [  0.1    7.    -0.3  -19.3 ]\n",
      " [  0.3   -0.2   10.    71.4 ]] \n",
      "\n",
      "\n",
      " Matriz A (Sustitucion hacia atras): \n",
      "\n",
      "[[ 3.0109619 ]\n",
      " [-2.45114286]\n",
      " [ 7.14      ]]\n"
     ]
    }
   ],
   "source": [
    "import numpy as np\n",
    "\n",
    "A = np.array([[3, -0.1, -0.2, 7.85], [0.1, 7, -0.3, -19.3], [0.3, -0.2, 10, 71.4]])\n",
    "X = np.zeros((3,1))\n",
    "\n",
    "print \"Matriz A: \\n\"\n",
    "print A, \"\\n\"\n",
    "\n",
    "n = 3  \n",
    "\n",
    "X[n-1] = A[n-1,n] / (A[n-1,n-1] * 1.0)\n",
    "\n",
    "for i in range(n-1,-1,-1):\n",
    "    sum = A[i,n]\n",
    "    for j in range(i+1, n):\n",
    "        sum = sum - A[i,j] * X[j]\n",
    "    X[i] = sum / (A[i,i] * 1.0)\n",
    "\n",
    "print \"\\n Matriz A (Sustitucion hacia atras): \\n\"\n",
    "print X"
   ]
  },
  {
   "cell_type": "code",
   "execution_count": null,
   "metadata": {
    "collapsed": true
   },
   "outputs": [],
   "source": []
  }
 ],
 "metadata": {
  "kernelspec": {
   "display_name": "Python 2",
   "language": "python",
   "name": "python2"
  },
  "language_info": {
   "codemirror_mode": {
    "name": "ipython",
    "version": 2
   },
   "file_extension": ".py",
   "mimetype": "text/x-python",
   "name": "python",
   "nbconvert_exporter": "python",
   "pygments_lexer": "ipython2",
   "version": "2.7.11"
  }
 },
 "nbformat": 4,
 "nbformat_minor": 0
}
