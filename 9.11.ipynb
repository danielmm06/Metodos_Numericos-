{
 "metadata": {
  "name": "",
  "signature": "sha256:089e9d1dde7c08193e1fe86606da90df878de3f1f7d727a39456f8efd46dd6f8"
 },
 "nbformat": 3,
 "nbformat_minor": 0,
 "worksheets": [
  {
   "cells": [
    {
     "cell_type": "code",
     "collapsed": false,
     "input": [
      "var=0\n",
      "pivoteo=0\n",
      "matriz=[[2.0,-6.0,-1.0,-38.0],[-3.0,-1.0,7.0,-34.0],[-8.0,1.0,-2.0,-20.0]]\n",
      "\n",
      "var = len(matriz[0])-1\n",
      "    \n",
      "def cambiar(matriz,pivoteo,var):\n",
      "    temp=0.0\n",
      "    temp=matriz[pivoteo][pivoteo]\n",
      "    for y in range(0,var+1):\n",
      "        matriz[pivoteo][y]=matriz[pivoteo][y]/temp\n",
      "        \n",
      "def ceros(matriz,pivoteo,var):\n",
      "    for x in range(0,var):\n",
      "        if (x!=pivoteo):\n",
      "            c = matriz[x][pivoteo]\n",
      "            for z in range(0,var+1):\n",
      "                matriz[x][z]=((-1*c)*matriz[pivoteo][z])+matriz[x][z]\n",
      "                \n",
      "for a in range(0,var):\n",
      "    cambiar(matriz,pivoteo,var)\n",
      "    ceros(matriz,pivoteo,var)\n",
      "    pivoteo += 1\n",
      "for x in range(0,var):\n",
      "    print \"La variable X%d es: %d\"%(x+1,matriz[x][var])\n",
      "    \n",
      "ecuacion_1=2*matriz[0][3]+matriz[1][3]-matriz[2][3]\n",
      "ecuacion_2=5*matriz[0][3]+2*matriz[1][3]+2*matriz[2][3]\n",
      "ecuacion_3=3*matriz[0][3]+matriz[1][3]+matriz[2][3]\n",
      "\n",
      "print \"\\nSatisface la ecuacion 1, su resultado es: \", ecuacion_1\n",
      "print \"Satisface la ecuacion 2, su resultado es: \", ecuacion_2\n",
      "print \"Satisface la ecuacion 3, su resultado es: \", ecuacion_3"
     ],
     "language": "python",
     "metadata": {},
     "outputs": [
      {
       "output_type": "stream",
       "stream": "stdout",
       "text": [
        "La variable X1 es: 3\n",
        "La variable X2 es: 8\n",
        "La variable X3 es: -1\n",
        "\n",
        "Satisface la ecuacion 1, su resultado es:  18.0\n",
        "Satisface la ecuacion 2, su resultado es:  32.0\n",
        "Satisface la ecuacion 3, su resultado es:  18.0\n"
       ]
      }
     ],
     "prompt_number": 8
    },
    {
     "cell_type": "code",
     "collapsed": false,
     "input": [],
     "language": "python",
     "metadata": {},
     "outputs": [],
     "prompt_number": 1
    },
    {
     "cell_type": "code",
     "collapsed": false,
     "input": [],
     "language": "python",
     "metadata": {},
     "outputs": []
    }
   ],
   "metadata": {}
  }
 ]
}