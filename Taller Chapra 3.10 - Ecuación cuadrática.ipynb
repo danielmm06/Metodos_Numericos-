{
 "cells": [
  {
   "cell_type": "markdown",
   "metadata": {},
   "source": [
    "# Taller Chapra 3.10 - Ecuación cuadrática"
   ]
  },
  {
   "cell_type": "code",
   "execution_count": 6,
   "metadata": {
    "collapsed": false
   },
   "outputs": [
    {
     "name": "stdout",
     "output_type": "stream",
     "text": [
      "\n",
      " X1= 5000.000000 --- X2= 0.002000\n",
      " X1= 5000.000000 --- X2= 0.002000\n",
      "\n",
      "\n",
      "|   Metodo 1 |   Metodo 2 |\n",
      "|-----------:|-----------:|\n",
      "|       5000 |      0.002 |\n",
      "|       5000 |      0.002 |\n"
     ]
    }
   ],
   "source": [
    "import math\n",
    "from tabulate import tabulate \n",
    "\n",
    "a=1\n",
    "b=-5000.002\n",
    "c=10\n",
    "disc=math.pow(b,2)-4*a*c\n",
    "metodo_1, metodo_2, tabla=[], [], []\n",
    "  \n",
    "if(disc<0):\n",
    "    print \"Tiene Raices Imaginarias\"\n",
    "else:\n",
    "    x1=(-b+math.sqrt(disc))/(2*a) \n",
    "    x2=(-b-math.sqrt(disc))/(2*a)  \n",
    "    print \"\\n X1= %f --- X2= %f\" %(round(x1,5),round(x2,5))  \n",
    "metodo_1.append(x1)\n",
    "metodo_1.append(x2)\n",
    "\n",
    "xb1=(-2*c)/(b+math.sqrt(disc))\n",
    "xb2=(-2*c)/(b-math.sqrt(disc))\n",
    "print \" X1= %f --- X2= %f\" %(round(xb1,5),round(xb2,5)) \n",
    "metodo_2.append(xb1)\n",
    "metodo_2.append(xb2)\n",
    "\n",
    "tabla=([metodo_1[0:],metodo_2[0:]])\n",
    "print\"\\n\"\n",
    "print tabulate(tabla, headers=[\"Metodo 1\", \"Metodo 2\"], tablefmt=\"pipe\")"
   ]
  },
  {
   "cell_type": "code",
   "execution_count": null,
   "metadata": {
    "collapsed": true
   },
   "outputs": [],
   "source": []
  }
 ],
 "metadata": {
  "kernelspec": {
   "display_name": "Python 2",
   "language": "python",
   "name": "python2"
  },
  "language_info": {
   "codemirror_mode": {
    "name": "ipython",
    "version": 2
   },
   "file_extension": ".py",
   "mimetype": "text/x-python",
   "name": "python",
   "nbconvert_exporter": "python",
   "pygments_lexer": "ipython2",
   "version": "2.7.11"
  }
 },
 "nbformat": 4,
 "nbformat_minor": 0
}
