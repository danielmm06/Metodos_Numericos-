{
 "metadata": {
  "name": "",
  "signature": "sha256:a3c2ced3345eb4bde73b755eb9106af98bfa4f0cc8c51ef9056098ba261970c6"
 },
 "nbformat": 3,
 "nbformat_minor": 0,
 "worksheets": [
  {
   "cells": [
    {
     "cell_type": "code",
     "collapsed": false,
     "input": [
      "import math\n",
      "import pylab as plt\n",
      "\n",
      "vertorx_1=[];\n",
      "vectory_1=[];\n",
      "vectorx=[]\n",
      "vectory=[]\n",
      "vectory_2=[]\n",
      "v=0\n",
      "\n",
      "def f(lo):\n",
      "    l=math.log(lo)\n",
      "    return l\n",
      "\n",
      "print '|{0:7} | {1:15} | {2:15} | {3:15} |'.format(\" Tiempo\",\" Valor Esperado\",\"      Lineal\",\"    Cuadrado\")\n",
      "\n",
      "for tiempo in range(10):\n",
      "    v=math.log(tiempo+1)\n",
      "    \n",
      "    # Ecuacio de interpolacion lineal\n",
      "    \n",
      "    fx=f(tiempo+1)+((f(6)-f(tiempo+1))/(5))*((tiempo+2)-(tiempo+3))\n",
      "    vectory_2.append(fx)\n",
      "    \n",
      "    vectorx.append(tiempo)\n",
      "    vectory.append(v)\n",
      "    \n",
      "    #Ecuacion de interpolacion cuadratica\n",
      "    \n",
      "    b0=0\n",
      "    b1=(f(4)-f(1))/(4-1)\n",
      "    b2=(((f(6)-f(4))/2)-((f(4)-f(1))/3))/5\n",
      "    fx_2=b0+(b1*(tiempo))+(b2*(tiempo)*(tiempo-3))\n",
      "    \n",
      "    print '|{0:7} | {1:15} | {2:15} | {3:15} |'.format(tiempo+1,f(tiempo+1),fx,fx_2)\n",
      "    \n",
      "    vectory_1.append(fx_2)\n",
      "plt.plot(vectorx,vectory,'r')\n",
      "plt.plot(vectorx,vectory_2,'.')\n",
      "plt.plot(vectorx,vectory_1,'*')\n",
      "plt.xlabel('X')\n",
      "plt.ylabel('Ln(x)')\n",
      "plt.title('Grafica Logaritmo')\n",
      "plt.grid(True)\n",
      "plt.savefig(\"grafica_1.png\")\n",
      "plt.show()"
     ],
     "language": "python",
     "metadata": {},
     "outputs": [
      {
       "output_type": "stream",
       "stream": "stdout",
       "text": [
        "| Tiempo |  Valor Esperado |       Lineal    |     Cuadrado    |\n",
        "|      1 |             0.0 | -0.358351893846 |             0.0 |\n",
        "|      2 |   0.69314718056 |  0.473424722826 |  0.565844346901 |\n",
        "|      3 |   1.09861228867 |  0.959982852556 |   1.02794246727 |\n",
        "|      4 |   1.38629436112 |    1.3052013395 |   1.38629436112 |\n",
        "|      5 |   1.60943791243 |   1.57297360108 |   1.64090002844 |\n",
        "|      6 |   1.79175946923 |   1.79175946923 |   1.79175946923 |\n",
        "|      7 |   1.94591014906 |   1.97674028502 |   1.83887268349 |\n",
        "|      8 |   2.07944154168 |   2.13697795617 |   1.78223967123 |\n",
        "|      9 |   2.19722457734 |   2.27831759896 |   1.62186043243 |\n",
        "|     10 |   2.30258509299 |   2.40475021775 |   1.35773496711 |\n"
       ]
      }
     ],
     "prompt_number": 21
    },
    {
     "cell_type": "code",
     "collapsed": false,
     "input": [],
     "language": "python",
     "metadata": {},
     "outputs": []
    }
   ],
   "metadata": {}
  }
 ]
}