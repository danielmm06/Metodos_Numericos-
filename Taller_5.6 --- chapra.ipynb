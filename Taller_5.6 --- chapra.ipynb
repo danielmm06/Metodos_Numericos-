{
 "cells": [
  {
   "cell_type": "markdown",
   "metadata": {},
   "source": [
    "# Taller_5.6 chapra"
   ]
  },
  {
   "cell_type": "code",
   "execution_count": 10,
   "metadata": {
    "collapsed": false
   },
   "outputs": [
    {
     "data": {
      "image/png": "[encoded data removed]",
      "text/plain": [
       "<matplotlib.figure.Figure at 0x382ce80>"
      ]
     },
     "metadata": {},
     "output_type": "display_data"
    },
    {
     "name": "stdout",
     "output_type": "stream",
     "text": [
      "|   Iteracion |   Biseccion |   Falsa Posicion |\n",
      "|------------:|------------:|-----------------:|\n",
      "|           1 |      1.25   |          1.25    |\n",
      "|           2 |      0.875  |          1.06735 |\n",
      "|           3 |      1.0625 |          1.01859 |\n"
     ]
    }
   ],
   "source": [
    "import math\n",
    "import matplotlib.pyplot as plt\n",
    "from tabulate import tabulate \n",
    "%matplotlib inline\n",
    "\n",
    "raizReal=1.41906\n",
    "result=0.7\n",
    "xl, xu, xr=0.5, 2.0, 0.0\n",
    "xl2, xu2, xr=0.5,2.0,0.0\n",
    "contador=-2\n",
    "evaluar, valores, tabla_1, aux_1, aux_2, tabla_2=[],[], [], [],[],[]\n",
    "fA=1.0\n",
    "fB=1.0\n",
    "f1=1.0\n",
    "f2=1.0\n",
    "f3=1.0\n",
    "\n",
    "while(contador<=2):\n",
    "    x=math.pow(contador, 2)\n",
    "    now=math.log(x)\n",
    "    evaluar.append(now)\n",
    "    valores.append(contador)\n",
    "    tabla_1.append([contador,now])\n",
    "    contador+=0.02\n",
    "\n",
    "def metodo_1(value):\n",
    "    arg=math.pow(value, 2)\n",
    "    ln=math.log(arg)\n",
    "    return ln\n",
    "a=1   \n",
    "\n",
    "while (a<4):\n",
    "    xr=(xl+xu)/2\n",
    "    aux_1.append(xr)\n",
    "    fA=metodo_1(xl)\n",
    "    fB=metodo_1(xr)\n",
    "    if ((fA*fB)<0):\n",
    "        xu=xr\n",
    "    if((fA*fB)>0):\n",
    "         xl=xr\n",
    "    a+=1\n",
    "    \n",
    "b=1  \n",
    "\n",
    "while (b<4):\n",
    "    f1=metodo_1(xl2)\n",
    "    f2=metodo_1(xu2)\n",
    "    xr2=xu2-(f2*(xl2-xu2))/(f1-f2)\n",
    "    aux_2.append(xr2)\n",
    "    f3=metodo_1(xr2)\n",
    "    if ((f1*f3)<0):\n",
    "        xu2=xr2\n",
    "    if((f1*f3)>0):\n",
    "         xl2=xr2 \n",
    "    b+=1 \n",
    "\n",
    "for i in range(0,3):\n",
    "    tabla_2.append([i+1,aux_1[i], aux_2[i]])\n",
    "\n",
    "plt.title(\" Logaritmo \")\n",
    "plt.axis([0, 2, -2, 4])\n",
    "plt.ylabel('ln (x^2)')\n",
    "plt.xlabel('x')\n",
    "plt.axhline(0, color=\"green\")\n",
    "plt.plot(valores, evaluar, 'm-', linewidth=2)\n",
    "plt.plot(raizReal,0.7, 'co', label='X exacta=1.41907',linewidth=2)\n",
    "plt.legend(loc = 'upper right', numpoints = 1)\n",
    "plt.show()\n",
    "\n",
    "print tabulate(tabla_2, headers=[\"Iteracion\",\"Biseccion\",\"Falsa Posicion\"], tablefmt=\"pipe\")"
   ]
  },
  {
   "cell_type": "code",
   "execution_count": null,
   "metadata": {
    "collapsed": true
   },
   "outputs": [],
   "source": []
  }
 ],
 "metadata": {
  "kernelspec": {
   "display_name": "Python 2",
   "language": "python",
   "name": "python2"
  },
  "language_info": {
   "codemirror_mode": {
    "name": "ipython",
    "version": 2
   },
   "file_extension": ".py",
   "mimetype": "text/x-python",
   "name": "python",
   "nbconvert_exporter": "python",
   "pygments_lexer": "ipython2",
   "version": "2.7.11"
  }
 },
 "nbformat": 4,
 "nbformat_minor": 0
}
