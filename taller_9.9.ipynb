{
 "cells": [
  {
   "cell_type": "code",
   "execution_count": 3,
   "metadata": {
    "collapsed": false
   },
   "outputs": [
    {
     "name": "stdout",
     "output_type": "stream",
     "text": [
      "X1 = 1.5\n",
      "X2 = -6.5\n",
      "X3 = 0.5\n",
      "\n",
      "La Primera Ecuacion Satisface\n",
      "La segunda Ecuacion Satisface\n",
      "La tercera Ecuacion Satisface\n"
     ]
    }
   ],
   "source": [
    "m,b,x,n,det,factor,tol,s,er = [[8.0,2.0,-2.0],[10.0,2.0,4.0],[12.0,2.0,2.0 ]],[-2.0,4.0,6.0],[],3,1.0,0.0,0.0,[],0.0\n",
    "\n",
    "for z in range(0,n):\n",
    "    x.append(n*0.0)\n",
    "    s.append(n*0.0)\n",
    "        \n",
    "def eliminar(m,s,n,b,tol,er):\n",
    "    for k in range(0,n):\n",
    "        pivoteo(m,b,s,n,k)\n",
    "        if (abs(m[k][k]/s[k])<tol):\n",
    "            er=-1\n",
    "        for i in range(k+1,n):\n",
    "            factor = m[i][k]/m[k][k]\n",
    "            for j in range (k+1,n):\n",
    "                m[i][j]=m[i][j]-factor*m[k][j]\n",
    "            b[i]=b[i]-factor*b[k]\n",
    "    \n",
    "    if (abs(m[k][k]/s[k])<tol):\n",
    "        er=-1\n",
    "        \n",
    "def pivoteo(m,b,s,n,k):\n",
    "    p,k=0,0\n",
    "    p=k\n",
    "    big = abs(m[k][k]/s[k])\n",
    "    for i in range(k+1,n):\n",
    "        dummy = abs(m[i][k]/s[i])\n",
    "        if (dummy>big):\n",
    "            big=dummy\n",
    "            p=i\n",
    "    if (p!=k):\n",
    "        for j in range(k,n):\n",
    "            dummy=m[p][j]\n",
    "            m[p][j]=m[k][j]\n",
    "            m[k][j]=dummy\n",
    "        dummy=b[p]\n",
    "        b[p]=b[k]\n",
    "        b[k]=dummy\n",
    "        dummy=s[p]\n",
    "        s[p]=s[k]\n",
    "        s[k]=dummy\n",
    "    \n",
    "def sustituir(m,n,b,x):\n",
    "    x[n-1]=b[n-1]/m[n-1][n-1]\n",
    "    i=n-1\n",
    "    while (i>=0):\n",
    "        suma = 0\n",
    "        for j in range(i+1,n):\n",
    "            suma=suma+x[j]*m[i][j]\n",
    "        x[i]=(b[i]-suma)/m[i][i]\n",
    "        i -= 1\n",
    "    for i in range(0,n):\n",
    "        k=i+1\n",
    "        print \"X%d = %.1f\"%(k,x[i])\n",
    "\n",
    "def gauss(m,b,n,x,tol,er):\n",
    "    for i in range(0,n):\n",
    "        s[i]=abs(m[i][1])\n",
    "        for j in range(1,n):\n",
    "            if (abs(m[i][j])>s[i]):\n",
    "                s[i]=abs(m[i][j])\n",
    "    eliminar(m,s,n,b,tol,er)\n",
    "    if (er!=-1):\n",
    "        sustituir(m,n,b,x)\n",
    "\n",
    "\n",
    "def verificar():\n",
    "\n",
    "    x1,x2,x3 = x[0],x[1],x[2]\n",
    "    ecuacion1=8*x1 + 2*x2 - 2*x3\n",
    "    ecuacion2=10*x1 + 2*x2 + 4*x3\n",
    "    ecuacion3=12*x1 + 2*x2 + 2*x3\n",
    "    if (round(ecuacion1)==-2):\n",
    "        print (\"\\nLa Primera Ecuacion Satisface\")\n",
    "    if(round(ecuacion2)==4):\n",
    "        print (\"La segunda Ecuacion Satisface\")\n",
    "    if(round(ecuacion3)==6):\n",
    "        print (\"La tercera Ecuacion Satisface\")\n",
    "        \n",
    "gauss(m,b,n,x,tol,er)\n",
    "verificar()"
   ]
  },
  {
   "cell_type": "code",
   "execution_count": null,
   "metadata": {
    "collapsed": true
   },
   "outputs": [],
   "source": []
  }
 ],
 "metadata": {
  "kernelspec": {
   "display_name": "Python 2",
   "language": "python",
   "name": "python2"
  },
  "language_info": {
   "codemirror_mode": {
    "name": "ipython",
    "version": 2
   },
   "file_extension": ".py",
   "mimetype": "text/x-python",
   "name": "python",
   "nbconvert_exporter": "python",
   "pygments_lexer": "ipython2",
   "version": "2.7.11"
  }
 },
 "nbformat": 4,
 "nbformat_minor": 0
}
