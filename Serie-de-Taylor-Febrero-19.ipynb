{
 "cells": [
  {
   "cell_type": "markdown",
   "metadata": {},
   "source": [
    "# Luis Daniel Malaver Mendoza Cod:160003416"
   ]
  },
  {
   "cell_type": "code",
   "execution_count": 4,
   "metadata": {
    "collapsed": false
   },
   "outputs": [
    {
     "name": "stdout",
     "output_type": "stream",
     "text": [
      "      Orden    f(xi+1)           Error Relativo         Error Absoluto\n",
      "\t0 \t 1.2 \t\t 83.3333333333 \t\t ---\n",
      "\t1 \t 0.95 \t\t 78.9473684211 \t\t 26.3157894737\n",
      "\t2 \t 0.45 \t\t 55.5555555556 \t\t 111.111111111\n",
      "\t3 \t 0.3 \t\t 33.3333333333 \t\t 50.0\n",
      "\t4 \t 0.2 \t\t 0.0 \t\t 50.0\n"
     ]
    }
   ],
   "source": [
    "import math\n",
    "\n",
    "x=0\n",
    "xi1=1\n",
    "h=xi1-x\n",
    "\n",
    "def fx(x):\n",
    "    return (-0.1*(x**4))-(0.15*(x**3))-(0.5*(x**2))-(0.25*x)+1.2\n",
    "\n",
    "def funcion_aproximada(x,orden):\n",
    "    fun=(-0.1*(x**4))-(0.15*(x**3))-(0.5*(x**2))-(0.25*x)+1.2\n",
    "    fun_1=(-0.4*((x)**3))-(0.45*((x)**2))-(1*(x))-0.25\n",
    "    fun_2=(-1.2*((x)**2))-(0.9*(x))-1\n",
    "    fun_3=(-2.4*(x))-0.9\n",
    "    fun_4=-2.4\n",
    "    derivada=[fun_1,fun_2,fun_3,fun_4]\n",
    "    aux=fun\n",
    "    n=0\n",
    "\n",
    "    while orden > 0:\n",
    "        aux+=(derivada[n]/math.factorial(n+1))*(h**(n+1))\n",
    "        n+=1\n",
    "        orden-=1\n",
    "    return aux\n",
    "\n",
    "orden=0\n",
    "verdadero=fx(1)\n",
    "anterior=\"0\"\n",
    "error_absoluto=100\n",
    "\n",
    "print \"      Orden    f(xi+1)           Error Relativo         Error Absoluto\"\n",
    "\n",
    "while (orden<=4):\n",
    "    error_relativo=math.fabs(((verdadero-funcion_aproximada(x,orden))/funcion_aproximada(x,orden))*100)\n",
    "    if(anterior==\"0\"):\n",
    "        error_absoluto=\"---\"\n",
    "    if(anterior!=\"0\"):\n",
    "        error_absoluto=math.fabs((((funcion_aproximada(x,orden)-anterior)/funcion_aproximada(x,orden)))*100)\n",
    "\n",
    "    print '\\t{0} \\t {1} \\t\\t {2} \\t\\t {3}'.format(orden,funcion_aproximada(x,orden),error_relativo,error_absoluto)\n",
    "    anterior=funcion_aproximada(x,orden)\n",
    "    orden+=1"
   ]
  },
  {
   "cell_type": "code",
   "execution_count": null,
   "metadata": {
    "collapsed": true
   },
   "outputs": [],
   "source": []
  }
 ],
 "metadata": {
  "kernelspec": {
   "display_name": "Python 2",
   "language": "python",
   "name": "python2"
  },
  "language_info": {
   "codemirror_mode": {
    "name": "ipython",
    "version": 2
   },
   "file_extension": ".py",
   "mimetype": "text/x-python",
   "name": "python",
   "nbconvert_exporter": "python",
   "pygments_lexer": "ipython2",
   "version": "2.7.11"
  }
 },
 "nbformat": 4,
 "nbformat_minor": 0
}
