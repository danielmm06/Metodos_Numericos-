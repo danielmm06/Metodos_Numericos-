{
 "cells": [
  {
   "cell_type": "markdown",
   "metadata": {},
   "source": [
    "# Taller_5.1 --- Chapra"
   ]
  },
  {
   "cell_type": "code",
   "execution_count": 3,
   "metadata": {
    "collapsed": false
   },
   "outputs": [
    {
     "data": {
      "image/png": "[encoded data removed]",
      "text/plain": [
       "<matplotlib.figure.Figure at 0x6bfc8d0>"
      ]
     },
     "metadata": {},
     "output_type": "display_data"
    },
    {
     "name": "stdout",
     "output_type": "stream",
     "text": [
      "Por La Ecuacion Cuadratica Se Obtiene Que La Raiz Mayor Es: x= 6.405125\n",
      "\n",
      "|   Iteracion |   Raiz | Error relativo porcentual verdadero   | Error aproximado   |\n",
      "|------------:|-------:|:--------------------------------------|:-------------------|\n",
      "|           1 | 7.5    | 17.0937364961 %                       | ----- %            |\n",
      "|           2 | 6.25   | 2.42188625324 %                       | 20.0 %             |\n",
      "|           3 | 6.875  | 7.33592512143 %                       | 9.09090909091 %    |\n",
      "|           4 | 6.5625 | 2.4570194341 %                        | 4.7619047619 %     |\n"
     ]
    }
   ],
   "source": [
    "import math\n",
    "from tabulate import tabulate \n",
    "import matplotlib.pyplot as plt\n",
    "%matplotlib inline\n",
    "\n",
    "xReal=-1.405\n",
    "a, b, c, xl, xu, xr, x1, x2=-0.5, 2.5, 4.5, 5.0, 10.0, 0.0, 0.0, 0.0\n",
    "contador, x=1, 0\n",
    "tabla, equis, funcion, raices, Ea_prox=[], [],[], [],[]\n",
    "\n",
    "def cuadratica():\n",
    "    x1=(-b+math.sqrt(math.pow(b,2)-4*a*c))/(2*a)\n",
    "    x2=(-b-math.sqrt(math.pow(b,2)-4*a*c))/(2*a)\n",
    "    if(x1>x2):\n",
    "        xMayor=x1\n",
    "        return xMayor\n",
    "    else:\n",
    "        xMayor=x2\n",
    "        return xMayor\n",
    "\n",
    "def funcion_1(x):\n",
    "    fx=a*math.pow(x,2)+b*x+c\n",
    "    return fx\n",
    "\n",
    "while (x<10):\n",
    "    equis.append(x)\n",
    "    fxG=a*math.pow(x,2)+b*x+c\n",
    "    funcion.append(fxG)\n",
    "    x+=0.8\n",
    "    \n",
    "for i in range(0,4):\n",
    "    xr=(xl+xu)/2\n",
    "    raices.append(xr)\n",
    "    fA=funcion_1(xl)\n",
    "    fB=funcion_1(xr)\n",
    "    erpv=math.fabs(((cuadratica()-xr)/cuadratica())*100)\n",
    "    if(i==0):\n",
    "        Ea_prox.append(\"-----\")\n",
    "        ea_prx=100\n",
    "    else:\n",
    "        j=i-1\n",
    "        ea_prx=math.fabs(((raices[i]-raices[j])/raices[i])*100)\n",
    "        Ea_prox.append(ea_prx)\n",
    "    tabla.append([i+1,xr, str(erpv)+\" %\",str(Ea_prox[i])+\" %\"])\n",
    "    if ((fA*fB)<0):\n",
    "        xu=xr\n",
    "    if((fA*fB)>0):\n",
    "         xl=xr\n",
    "\n",
    "plt.title(\"Raiz De La Funcion\")\n",
    "plt.axis([0, 10, -2, 10])\n",
    "plt.ylabel('f(x)')\n",
    "plt.xlabel('x')\n",
    "plt.axhline(0, color=\"green\")\n",
    "plt.plot(equis, function, 'b-', marker='*')\n",
    "plt.plot(cuadratica(),0, 'cs', label='Raiz Exacta=6.405125')\n",
    "plt.legend(loc = 'upper right', numpoints = 1)\n",
    "plt.show()\n",
    "\n",
    "print \"Por La Ecuacion Cuadratica Se Obtiene Que La Raiz Mayor Es: x= %f\\n\"%(cuadratica())\n",
    "\n",
    "print tabulate(table, headers=[\"Iteracion\", \"Raiz\", \"Error relativo porcentual verdadero\", \"Error aproximado\"], tablefmt=\"pipe\")"
   ]
  },
  {
   "cell_type": "code",
   "execution_count": null,
   "metadata": {
    "collapsed": true
   },
   "outputs": [],
   "source": []
  }
 ],
 "metadata": {
  "kernelspec": {
   "display_name": "Python 2",
   "language": "python",
   "name": "python2"
  },
  "language_info": {
   "codemirror_mode": {
    "name": "ipython",
    "version": 2
   },
   "file_extension": ".py",
   "mimetype": "text/x-python",
   "name": "python",
   "nbconvert_exporter": "python",
   "pygments_lexer": "ipython2",
   "version": "2.7.11"
  }
 },
 "nbformat": 4,
 "nbformat_minor": 0
}
